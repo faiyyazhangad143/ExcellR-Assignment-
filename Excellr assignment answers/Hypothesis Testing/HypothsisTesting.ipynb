{
 "cells": [
  {
   "cell_type": "markdown",
   "id": "a0e0f63b-ff0b-4256-bd34-fa28399ce7bb",
   "metadata": {},
   "source": [
    "# Q1"
   ]
  },
  {
   "cell_type": "code",
   "execution_count": 1,
   "id": "04d6d2bd-8f1b-4115-a52b-e4642a4b4b1b",
   "metadata": {},
   "outputs": [
    {
     "name": "stdout",
     "output_type": "stream",
     "text": [
      "Shapiro-Wilk Test for Normality:\n",
      "Diameter A - p-value: 0.31998491287231445\n",
      "Diameter B - p-value: 0.5225146412849426\n",
      "\n",
      "Levene's Test for Homogeneity of Variance:\n",
      "p-value: 0.4176162212502553\n",
      "\n",
      "Two-Sample T-Test:\n",
      "t-statistic: 0.7228688704678063\n",
      "p-value: 0.4722394724599501\n"
     ]
    }
   ],
   "source": [
    "import pandas as pd \n",
    "from scipy import stats\n",
    "\n",
    "df = pd.read_csv(\"Cutlets.csv\")\n",
    "\n",
    "diameter_a = df['Unit A'].values \n",
    "diameter_b = df['Unit B'].values\n",
    "\n",
    "shapiro_stat_a, shapiro_p_a = stats.shapiro(diameter_a) \n",
    "shapiro_stat_b, shapiro_p_b = stats.shapiro(diameter_b)\n",
    "\n",
    "print(\"Shapiro-Wilk Test for Normality:\") \n",
    "print(\"Diameter A - p-value:\", shapiro_p_a) \n",
    "print(\"Diameter B - p-value:\", shapiro_p_b)\n",
    "\n",
    "levene_stat, levene_p = stats.levene(diameter_a, diameter_b)\n",
    "print(\"\\nLevene's Test for Homogeneity of Variance:\") \n",
    "print(\"p-value:\", levene_p)\n",
    "\n",
    "t_stat, t_p = stats.ttest_ind(diameter_a, diameter_b) \n",
    "print(\"\\nTwo-Sample T-Test:\") \n",
    "print(\"t-statistic:\", t_stat)\n",
    "print(\"p-value:\", t_p)"
   ]
  },
  {
   "cell_type": "markdown",
   "id": "809f31b8-93ae-4884-9570-4b5de0e846b3",
   "metadata": {},
   "source": [
    "# Q2"
   ]
  },
  {
   "cell_type": "code",
   "execution_count": 2,
   "id": "711c4e1f-2029-4b43-9564-310d7cc1f02b",
   "metadata": {},
   "outputs": [],
   "source": [
    "import pandas as pd\n",
    "\n",
    "\n",
    "data = pd.read_csv('LabTAT.csv')\n",
    "\n"
   ]
  },
  {
   "cell_type": "code",
   "execution_count": 3,
   "id": "ef606e54-ac02-475a-b1e8-a96816fba40f",
   "metadata": {},
   "outputs": [
    {
     "name": "stdout",
     "output_type": "stream",
     "text": [
      "F-statistic: 118.70421654401437\n",
      "P-value: 2.1156708949992414e-57\n",
      "Reject the null hypothesis. There is a statistically significant difference in the average TAT among the laboratories.\n"
     ]
    }
   ],
   "source": [
    "from scipy import stats\n",
    "\n",
    "lab1 = data['Laboratory 1']\n",
    "lab2 = data['Laboratory 2']\n",
    "lab3 = data['Laboratory 3']\n",
    "lab4 = data['Laboratory 4']\n",
    "\n",
    "\n",
    "f_statistic, p_value = stats.f_oneway(lab1, lab2, lab3, lab4)\n",
    "\n",
    " \n",
    "print(\"F-statistic:\", f_statistic)\n",
    "print(\"P-value:\", p_value)\n",
    "\n",
    "\n",
    "alpha = 0.05\n",
    "if p_value < alpha:\n",
    "    print(\"Reject the null hypothesis. There is a statistically significant difference in the average TAT among the laboratories.\")\n",
    "else:\n",
    "    print(\"Fail to reject the null hypothesis. There is no statistically significant difference in the average TAT among the laboratories.\")\n"
   ]
  },
  {
   "cell_type": "markdown",
   "id": "9faa7712-16cc-4065-80c9-5bf00a39dc82",
   "metadata": {},
   "source": [
    "# Q4"
   ]
  },
  {
   "cell_type": "code",
   "execution_count": 4,
   "id": "d6a70c2d-56f1-4e3f-8167-5cdcecfeb866",
   "metadata": {},
   "outputs": [],
   "source": [
    "import pandas as pd\n",
    "import numpy as np\n",
    "from scipy.stats import chi2_contingency\n"
   ]
  },
  {
   "cell_type": "code",
   "execution_count": 5,
   "id": "433be666-2525-46bc-bbca-fdac964ec006",
   "metadata": {},
   "outputs": [],
   "source": [
    "data = pd.read_csv(\"Costomer+OrderForm.csv\")\n"
   ]
  },
  {
   "cell_type": "code",
   "execution_count": 6,
   "id": "d477bd47-9de0-4535-902d-4b55bdf584d0",
   "metadata": {},
   "outputs": [
    {
     "name": "stdout",
     "output_type": "stream",
     "text": [
      "\n",
      "Chi-square Statistic: 93.39708733383942\n",
      "p-value: 1.0\n",
      "897\n",
      "\n",
      "Fail to reject the null hypothesis. There is no significant difference in defective percentage across the centers.\n"
     ]
    }
   ],
   "source": [
    "data.replace({\"Error Free\": 0, \"Defective\": 1}, inplace=True)\n",
    "\n",
    "\n",
    "data += 0.5\n",
    "\n",
    "\n",
    "chi2, p_val, df, exp = chi2_contingency(data)\n",
    "\n",
    "\n",
    "print(\"\\nChi-square Statistic:\", chi2)\n",
    "print(\"p-value:\", p_val)\n",
    "print(df)\n",
    "\n",
    "\n",
    "alpha = 0.05\n",
    "if p_val < alpha:\n",
    "    print(\"\\nReject the null hypothesis. There is a significant difference in defective percentage across the centers.\")\n",
    "else:\n",
    "    print(\"\\nFail to reject the null hypothesis. There is no significant difference in defective percentage across the centers.\")\n"
   ]
  },
  {
   "cell_type": "code",
   "execution_count": null,
   "id": "be3afb85-7c12-4354-ac0c-5e67942c5652",
   "metadata": {},
   "outputs": [],
   "source": []
  }
 ],
 "metadata": {
  "kernelspec": {
   "display_name": "Python 3 (ipykernel)",
   "language": "python",
   "name": "python3"
  },
  "language_info": {
   "codemirror_mode": {
    "name": "ipython",
    "version": 3
   },
   "file_extension": ".py",
   "mimetype": "text/x-python",
   "name": "python",
   "nbconvert_exporter": "python",
   "pygments_lexer": "ipython3",
   "version": "3.11.7"
  }
 },
 "nbformat": 4,
 "nbformat_minor": 5
}
