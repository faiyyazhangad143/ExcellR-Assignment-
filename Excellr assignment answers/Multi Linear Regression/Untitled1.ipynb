{
 "cells": [
  {
   "cell_type": "code",
   "execution_count": null,
   "id": "ac9ecfd8-ff71-4ce8-801e-f4f5fab73f33",
   "metadata": {},
   "outputs": [],
   "source": [
    "numerical_features = df.select_dtypes(int).columns\n",
    "df[numerical_features].hist(figsize=(12, 8))\n",
    "plt.suptitle('Histogram of Numerical Variables', y=1.02)\n",
    "plt.show()\n",
    "\n",
    "plt.figure(figsize=(8, 6))\n",
    "sns.scatterplot(x='age', y='balance', data=df)\n",
    "plt.title('Scatter Plot: Age vs Balance')\n",
    "plt.xlabel('Age')\n",
    "plt.ylabel('Balance')\n",
    "plt.show()\n",
    "\n",
    "sns.pairplot(df)\n",
    "\n",
    "numerical_features = df.select_dtypes(int).columns\n",
    "plt.figure(figsize=(10, 6))\n",
    "sns.heatmap(df[numerical_features].corr(), annot=True, cmap='coolwarm', fmt=\".2f\")\n",
    "plt.title('Correlation Matrix of Numerical Variables')\n",
    "plt.show()\n",
    "\n",
    "sns.countplot(x='y', data=df)\n",
    "plt.title('Distribution of Target Variable')\n",
    "plt.show()\n"
   ]
  },
  {
   "cell_type": "code",
   "execution_count": null,
   "id": "05a00e8a-d114-4450-8800-22b9ce9830b3",
   "metadata": {},
   "outputs": [],
   "source": []
  }
 ],
 "metadata": {
  "kernelspec": {
   "display_name": "Python 3 (ipykernel)",
   "language": "python",
   "name": "python3"
  },
  "language_info": {
   "codemirror_mode": {
    "name": "ipython",
    "version": 3
   },
   "file_extension": ".py",
   "mimetype": "text/x-python",
   "name": "python",
   "nbconvert_exporter": "python",
   "pygments_lexer": "ipython3",
   "version": "3.11.7"
  }
 },
 "nbformat": 4,
 "nbformat_minor": 5
}
