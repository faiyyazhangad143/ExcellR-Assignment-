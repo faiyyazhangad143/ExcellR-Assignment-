{
 "cells": [
  {
   "cell_type": "code",
   "execution_count": 18,
   "id": "c1528ff6-6748-4ce6-986e-2b5b6a62667e",
   "metadata": {},
   "outputs": [],
   "source": [
    "import requests\n",
    "from bs4 import BeautifulSoup\n",
    "from nltk.sentiment.vader import SentimentIntensityAnalyzer\n",
    "\n"
   ]
  },
  {
   "cell_type": "code",
   "execution_count": 19,
   "id": "a2b981bc-f843-41ed-a72c-7ac84012aafb",
   "metadata": {},
   "outputs": [],
   "source": [
    "# Function to scrape Amazon product reviews\n",
    "def scrape_amazon_reviews(url):\n",
    "    response = requests.get(url)\n",
    "    soup = BeautifulSoup(response.text, 'html.parser')\n",
    "    review_elements = soup.find_all('div', {'data-hook': 'review'})\n",
    "    reviews = [element.find('span', {'data-hook': 'review-body'}).text for element in review_elements]\n",
    "    return reviews\n",
    "\n"
   ]
  },
  {
   "cell_type": "code",
   "execution_count": 20,
   "id": "09a2a031-28fa-4183-ad75-28a8ce0cd79d",
   "metadata": {},
   "outputs": [],
   "source": [
    "# Function to perform sentiment analysis and determine emotion\n",
    "def perform_emotion_mining(reviews):\n",
    "    sid = SentimentIntensityAnalyzer()\n",
    "    emotions = []\n",
    "    for review in reviews:\n",
    "        sentiment_scores = sid.polarity_scores(review)\n",
    "        if sentiment_scores['compound'] >= 0.05:\n",
    "            emotions.append('positive')\n",
    "        elif sentiment_scores['compound'] <= -0.05:\n",
    "            emotions.append('negative')\n",
    "        else:\n",
    "            emotions.append('neutral')\n",
    "    return emotions\n",
    "\n"
   ]
  },
  {
   "cell_type": "code",
   "execution_count": 21,
   "id": "c2432e44-eefc-46bc-b8c8-9f1edae87ca7",
   "metadata": {},
   "outputs": [],
   "source": [
    "# Example Amazon product URL\n",
    "product_url = 'https://www.amazon.com/product-page'\n",
    "\n",
    "\n"
   ]
  },
  {
   "cell_type": "code",
   "execution_count": 22,
   "id": "0d97f563-63c2-4e87-b317-9b4546a29341",
   "metadata": {},
   "outputs": [],
   "source": [
    "# Scrape reviews from the product page\n",
    "reviews = scrape_amazon_reviews(product_url)\n",
    "\n"
   ]
  },
  {
   "cell_type": "code",
   "execution_count": 23,
   "id": "3568af4a-d9ce-41fb-b686-87464c451e35",
   "metadata": {},
   "outputs": [],
   "source": [
    "# Perform emotion mining on the extracted reviews\n",
    "emotions = perform_emotion_mining(reviews)\n",
    "\n"
   ]
  },
  {
   "cell_type": "code",
   "execution_count": 24,
   "id": "d4a9acf8-e562-4ce6-af6e-d39b3da99a6a",
   "metadata": {},
   "outputs": [],
   "source": [
    "# Calculate emotion distribution\n",
    "emotion_distribution = {emotion: emotions.count(emotion) for emotion in set(emotions)}\n",
    "\n"
   ]
  },
  {
   "cell_type": "code",
   "execution_count": 25,
   "id": "428581d4-e116-4469-9038-b3e84c96b740",
   "metadata": {},
   "outputs": [
    {
     "name": "stdout",
     "output_type": "stream",
     "text": [
      "Emotion Distribution:\n"
     ]
    }
   ],
   "source": [
    "# Print emotion distribution\n",
    "print(\"Emotion Distribution:\")\n",
    "for emotion, count in emotion_distribution.items():\n",
    "    print(f\"{emotion}: {count}\")"
   ]
  },
  {
   "cell_type": "code",
   "execution_count": null,
   "id": "2a6170e6-e7a3-4e2f-8c44-ee365034d7d5",
   "metadata": {},
   "outputs": [],
   "source": []
  }
 ],
 "metadata": {
  "kernelspec": {
   "display_name": "Python 3 (ipykernel)",
   "language": "python",
   "name": "python3"
  },
  "language_info": {
   "codemirror_mode": {
    "name": "ipython",
    "version": 3
   },
   "file_extension": ".py",
   "mimetype": "text/x-python",
   "name": "python",
   "nbconvert_exporter": "python",
   "pygments_lexer": "ipython3",
   "version": "3.11.7"
  }
 },
 "nbformat": 4,
 "nbformat_minor": 5
}
