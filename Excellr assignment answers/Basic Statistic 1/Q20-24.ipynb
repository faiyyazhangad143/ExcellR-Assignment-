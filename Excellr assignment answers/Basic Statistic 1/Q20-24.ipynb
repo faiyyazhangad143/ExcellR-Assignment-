{
 "cells": [
  {
   "cell_type": "markdown",
   "id": "7c24cf0b-a6c8-46c5-8ce9-cfb93dc39713",
   "metadata": {},
   "source": [
    "# Q20\n"
   ]
  },
  {
   "cell_type": "code",
   "execution_count": null,
   "id": "ce862625-2f75-44c9-9efe-0687b2ce1082",
   "metadata": {},
   "outputs": [],
   "source": [
    "import pandas as pd"
   ]
  },
  {
   "cell_type": "code",
   "execution_count": 2,
   "id": "a8c2b60c-b270-4354-b293-d0eecfaf18ba",
   "metadata": {},
   "outputs": [],
   "source": [
    "cars = pd.read_csv(\"Cars.csv\")"
   ]
  },
  {
   "cell_type": "code",
   "execution_count": 3,
   "id": "88028d03-6172-4de0-baae-7e03bacd112e",
   "metadata": {},
   "outputs": [
    {
     "data": {
      "text/html": [
       "<div>\n",
       "<style scoped>\n",
       "    .dataframe tbody tr th:only-of-type {\n",
       "        vertical-align: middle;\n",
       "    }\n",
       "\n",
       "    .dataframe tbody tr th {\n",
       "        vertical-align: top;\n",
       "    }\n",
       "\n",
       "    .dataframe thead th {\n",
       "        text-align: right;\n",
       "    }\n",
       "</style>\n",
       "<table border=\"1\" class=\"dataframe\">\n",
       "  <thead>\n",
       "    <tr style=\"text-align: right;\">\n",
       "      <th></th>\n",
       "      <th>HP</th>\n",
       "      <th>MPG</th>\n",
       "      <th>VOL</th>\n",
       "      <th>SP</th>\n",
       "      <th>WT</th>\n",
       "    </tr>\n",
       "  </thead>\n",
       "  <tbody>\n",
       "    <tr>\n",
       "      <th>0</th>\n",
       "      <td>49</td>\n",
       "      <td>53.700681</td>\n",
       "      <td>89</td>\n",
       "      <td>104.185353</td>\n",
       "      <td>28.762059</td>\n",
       "    </tr>\n",
       "    <tr>\n",
       "      <th>1</th>\n",
       "      <td>55</td>\n",
       "      <td>50.013401</td>\n",
       "      <td>92</td>\n",
       "      <td>105.461264</td>\n",
       "      <td>30.466833</td>\n",
       "    </tr>\n",
       "    <tr>\n",
       "      <th>2</th>\n",
       "      <td>55</td>\n",
       "      <td>50.013401</td>\n",
       "      <td>92</td>\n",
       "      <td>105.461264</td>\n",
       "      <td>30.193597</td>\n",
       "    </tr>\n",
       "    <tr>\n",
       "      <th>3</th>\n",
       "      <td>70</td>\n",
       "      <td>45.696322</td>\n",
       "      <td>92</td>\n",
       "      <td>113.461264</td>\n",
       "      <td>30.632114</td>\n",
       "    </tr>\n",
       "    <tr>\n",
       "      <th>4</th>\n",
       "      <td>53</td>\n",
       "      <td>50.504232</td>\n",
       "      <td>92</td>\n",
       "      <td>104.461264</td>\n",
       "      <td>29.889149</td>\n",
       "    </tr>\n",
       "    <tr>\n",
       "      <th>...</th>\n",
       "      <td>...</td>\n",
       "      <td>...</td>\n",
       "      <td>...</td>\n",
       "      <td>...</td>\n",
       "      <td>...</td>\n",
       "    </tr>\n",
       "    <tr>\n",
       "      <th>76</th>\n",
       "      <td>322</td>\n",
       "      <td>36.900000</td>\n",
       "      <td>50</td>\n",
       "      <td>169.598513</td>\n",
       "      <td>16.132947</td>\n",
       "    </tr>\n",
       "    <tr>\n",
       "      <th>77</th>\n",
       "      <td>238</td>\n",
       "      <td>19.197888</td>\n",
       "      <td>115</td>\n",
       "      <td>150.576579</td>\n",
       "      <td>37.923113</td>\n",
       "    </tr>\n",
       "    <tr>\n",
       "      <th>78</th>\n",
       "      <td>263</td>\n",
       "      <td>34.000000</td>\n",
       "      <td>50</td>\n",
       "      <td>151.598513</td>\n",
       "      <td>15.769625</td>\n",
       "    </tr>\n",
       "    <tr>\n",
       "      <th>79</th>\n",
       "      <td>295</td>\n",
       "      <td>19.833733</td>\n",
       "      <td>119</td>\n",
       "      <td>167.944460</td>\n",
       "      <td>39.423099</td>\n",
       "    </tr>\n",
       "    <tr>\n",
       "      <th>80</th>\n",
       "      <td>236</td>\n",
       "      <td>12.101263</td>\n",
       "      <td>107</td>\n",
       "      <td>139.840817</td>\n",
       "      <td>34.948615</td>\n",
       "    </tr>\n",
       "  </tbody>\n",
       "</table>\n",
       "<p>81 rows × 5 columns</p>\n",
       "</div>"
      ],
      "text/plain": [
       "     HP        MPG  VOL          SP         WT\n",
       "0    49  53.700681   89  104.185353  28.762059\n",
       "1    55  50.013401   92  105.461264  30.466833\n",
       "2    55  50.013401   92  105.461264  30.193597\n",
       "3    70  45.696322   92  113.461264  30.632114\n",
       "4    53  50.504232   92  104.461264  29.889149\n",
       "..  ...        ...  ...         ...        ...\n",
       "76  322  36.900000   50  169.598513  16.132947\n",
       "77  238  19.197888  115  150.576579  37.923113\n",
       "78  263  34.000000   50  151.598513  15.769625\n",
       "79  295  19.833733  119  167.944460  39.423099\n",
       "80  236  12.101263  107  139.840817  34.948615\n",
       "\n",
       "[81 rows x 5 columns]"
      ]
     },
     "execution_count": 3,
     "metadata": {},
     "output_type": "execute_result"
    }
   ],
   "source": [
    "cars"
   ]
  },
  {
   "cell_type": "code",
   "execution_count": 4,
   "id": "700c10b5-4651-4786-a85e-95d715df563b",
   "metadata": {},
   "outputs": [],
   "source": [
    "MPG = cars['MPG']\n",
    "\n",
    "prob_a = (MPG > 38).mean()\n",
    "prob_b = (MPG < 40).mean()\n",
    "prob_c = ((MPG > 20) & (MPG < 50)).mean()\n"
   ]
  },
  {
   "cell_type": "code",
   "execution_count": 5,
   "id": "e2de3b61-61e8-4eda-85c5-995e99b11750",
   "metadata": {},
   "outputs": [
    {
     "name": "stdout",
     "output_type": "stream",
     "text": [
      "Probability of MPG > 38: 0.4074074074074074\n",
      "Probability of MPG < 40: 0.7530864197530864\n",
      "Probability of 20 < MPG < 50: 0.8518518518518519\n"
     ]
    }
   ],
   "source": [
    "print(\"Probability of MPG > 38:\", prob_a)\n",
    "print(\"Probability of MPG < 40:\", prob_b)\n",
    "print(\"Probability of 20 < MPG < 50:\", prob_c)"
   ]
  },
  {
   "cell_type": "code",
   "execution_count": 6,
   "id": "93d1c285-5252-4b0b-8894-ff623b36ac2e",
   "metadata": {},
   "outputs": [
    {
     "name": "stdout",
     "output_type": "stream",
     "text": [
      "Probability of MPG > 38: 0.40740740740740744\n",
      "Probability of MPG < 40: 0.7530864197530863\n",
      "Probability of 20 < MPG < 50: 0.8518518518518517\n"
     ]
    }
   ],
   "source": [
    "import pandas as pd\n",
    "from scipy.stats import percentileofscore\n",
    "\n",
    "\n",
    "cars = pd.read_csv(\"Cars.csv\")\n",
    "\n",
    "\n",
    "MPG = cars['MPG']\n",
    "\n",
    "prob_a = 1 - percentileofscore(MPG, 38) / 100\n",
    "\n",
    "\n",
    "prob_b = percentileofscore(MPG, 40) / 100\n",
    "\n",
    "\n",
    "prob_c = (percentileofscore(MPG, 50) - percentileofscore(MPG, 20)) / 100\n",
    "\n",
    "\n",
    "print(\"Probability of MPG > 38:\", prob_a)\n",
    "print(\"Probability of MPG < 40:\", prob_b)\n",
    "print(\"Probability of 20 < MPG < 50:\", prob_c)\n"
   ]
  },
  {
   "cell_type": "markdown",
   "id": "66067a47-6af8-4cfb-8338-331cbada677e",
   "metadata": {},
   "source": [
    "# Q21 a"
   ]
  },
  {
   "cell_type": "code",
   "execution_count": 9,
   "id": "f671ac19-f5e5-4d76-9eea-20745fb911e1",
   "metadata": {},
   "outputs": [
    {
     "data": {
      "image/png": "[encoded data removed]",
      "text/plain": [
       "<Figure size 640x480 with 1 Axes>"
      ]
     },
     "metadata": {},
     "output_type": "display_data"
    }
   ],
   "source": [
    "import pandas as pd\n",
    "import matplotlib.pyplot as plt\n",
    "\n",
    "cars = pd.read_csv(\"Cars.csv\")\n",
    "MPG = cars['MPG']\n",
    "\n",
    "plt.hist(MPG, bins=20, color='skyblue', edgecolor='black')\n",
    "plt.xlabel('MPG')\n",
    "plt.ylabel('Frequency')\n",
    "plt.title('Histogram of MPG Data')\n",
    "plt.show()\n"
   ]
  },
  {
   "cell_type": "code",
   "execution_count": null,
   "id": "7224f07e-f46c-402d-9d48-8c5f30b1f0ca",
   "metadata": {},
   "outputs": [],
   "source": [
    "# MPG of Cars not follows Normal Distribution "
   ]
  },
  {
   "cell_type": "markdown",
   "id": "99af961a-e0dd-4fca-a924-d6499c5dc04f",
   "metadata": {},
   "source": [
    "# Q21 b"
   ]
  },
  {
   "cell_type": "code",
   "execution_count": 11,
   "id": "6f72217d-367d-496d-99c5-943f9500b51f",
   "metadata": {
    "scrolled": true
   },
   "outputs": [
    {
     "data": {
      "image/png": "[encoded data removed]",
      "text/plain": [
       "<Figure size 1000x500 with 2 Axes>"
      ]
     },
     "metadata": {},
     "output_type": "display_data"
    }
   ],
   "source": [
    "import pandas as pd\n",
    "import matplotlib.pyplot as plt\n",
    "\n",
    "data = pd.read_csv(\"wc-at.csv\")\n",
    "AT = data['AT']\n",
    "Waist = data['Waist']\n",
    "\n",
    "plt.figure(figsize=(10, 5))\n",
    "plt.subplot(1, 2, 1)\n",
    "plt.hist(AT, bins=20, color='skyblue', edgecolor='black')\n",
    "plt.xlabel('Adipose Tissue (AT)')\n",
    "plt.ylabel('Frequency')\n",
    "plt.title('Histogram of Adipose Tissue (AT)')\n",
    "plt.subplot(1, 2, 2)\n",
    "plt.hist(Waist, bins=20, color='lightgreen', edgecolor='black')\n",
    "plt.xlabel('Waist Circumference (Waist)')\n",
    "plt.ylabel('Frequency')\n",
    "plt.title('Histogram of Waist Circumference (Waist)')\n",
    "\n",
    "plt.tight_layout()\n",
    "plt.show()\n",
    "\n"
   ]
  },
  {
   "cell_type": "code",
   "execution_count": null,
   "id": "ba9eb32a-db72-4cc0-885f-4557b0c7b628",
   "metadata": {},
   "outputs": [],
   "source": [
    "# data does not follow a normal distribution "
   ]
  },
  {
   "cell_type": "markdown",
   "id": "6536f2a7-f58a-4e18-85ac-84ff1132655b",
   "metadata": {},
   "source": [
    "# Q22"
   ]
  },
  {
   "cell_type": "code",
   "execution_count": 15,
   "id": "41b4d31d-d6a3-4745-9ca2-b41fbcd98f7b",
   "metadata": {},
   "outputs": [
    {
     "name": "stdout",
     "output_type": "stream",
     "text": [
      "Z-score for 90.0% confidence interval: 1.6449\n",
      "Z-score for 94.0% confidence interval: 1.8808\n",
      "Z-score for 60.0% confidence interval: 0.8416\n"
     ]
    }
   ],
   "source": [
    "from scipy.stats import norm\n",
    "\n",
    "\n",
    "confidence_levels = [0.90, 0.94, 0.60]\n",
    "\n",
    "\n",
    "z_scores = [norm.ppf((1 + confidence) / 2) for confidence in confidence_levels]\n",
    "\n",
    "\n",
    "for confidence, z_score in zip(confidence_levels, z_scores):\n",
    "    print(f\"Z-score for {confidence * 100}% confidence interval: {z_score:.4f}\")\n"
   ]
  },
  {
   "cell_type": "markdown",
   "id": "864ba3a4-0ab7-4eb9-8caa-fbd2893886fe",
   "metadata": {},
   "source": [
    "# Q23"
   ]
  },
  {
   "cell_type": "code",
   "execution_count": 17,
   "id": "46660fa1-6db6-44fb-8daa-a0854d5364f0",
   "metadata": {},
   "outputs": [
    {
     "name": "stdout",
     "output_type": "stream",
     "text": [
      "t-score for 95.0% confidence interval with sample size 25: 2.0639\n",
      "t-score for 96.0% confidence interval with sample size 25: 2.1715\n",
      "t-score for 99.0% confidence interval with sample size 25: 2.7969\n"
     ]
    }
   ],
   "source": [
    "from scipy.stats import t\n",
    "\n",
    "\n",
    "sample_size = 25\n",
    "\n",
    "\n",
    "confidence_levels = [0.95, 0.96, 0.99]\n",
    "\n",
    "\n",
    "degrees_of_freedom = sample_size - 1\n",
    "\n",
    "\n",
    "t_scores = [t.ppf((1 + confidence) / 2, df=degrees_of_freedom) for confidence in confidence_levels]\n",
    "\n",
    "\n",
    "for confidence, t_score in zip(confidence_levels, t_scores):\n",
    "    print(f\"t-score for {confidence * 100}% confidence interval with sample size {sample_size}: {t_score:.4f}\")\n"
   ]
  },
  {
   "cell_type": "markdown",
   "id": "7ee0934c-428c-4724-b678-04380203da50",
   "metadata": {},
   "source": [
    "# Q24"
   ]
  },
  {
   "cell_type": "code",
   "execution_count": 23,
   "id": "1b62adf2-d1d9-43a0-998e-55efa4c576b8",
   "metadata": {},
   "outputs": [
    {
     "name": "stdout",
     "output_type": "stream",
     "text": [
      "Probability that 18 randomly selected bulbs would have an average life of no more than 260 days: 0.32167253567098364\n"
     ]
    }
   ],
   "source": [
    "from scipy.stats import t\n",
    "\n",
    "\n",
    "sample_mean = 260 \n",
    "population_mean = 270  \n",
    "sample_std = 90  \n",
    "sample_size = 18  \n",
    "\n",
    "\n",
    "t_score = (sample_mean - population_mean) / (sample_std / (sample_size ** 0.5))\n",
    "\n",
    "\n",
    "df = sample_size - 1\n",
    "\n",
    "\n",
    "probability = t.cdf(t_score, df)\n",
    "\n",
    "print(\"Probability that 18 randomly selected bulbs would have an average life of no more than 260 days:\", probability)\n"
   ]
  },
  {
   "cell_type": "code",
   "execution_count": null,
   "id": "0599c6b4-3308-4df2-a926-413c1e8b934f",
   "metadata": {},
   "outputs": [],
   "source": []
  }
 ],
 "metadata": {
  "kernelspec": {
   "display_name": "Python 3 (ipykernel)",
   "language": "python",
   "name": "python3"
  },
  "language_info": {
   "codemirror_mode": {
    "name": "ipython",
    "version": 3
   },
   "file_extension": ".py",
   "mimetype": "text/x-python",
   "name": "python",
   "nbconvert_exporter": "python",
   "pygments_lexer": "ipython3",
   "version": "3.11.7"
  }
 },
 "nbformat": 4,
 "nbformat_minor": 5
}
