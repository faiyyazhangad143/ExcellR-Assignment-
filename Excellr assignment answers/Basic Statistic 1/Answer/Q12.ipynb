{
 "cells": [
  {
   "cell_type": "code",
   "execution_count": 1,
   "id": "65e1670e-b8a1-4b9b-acb9-d0fdab56529c",
   "metadata": {},
   "outputs": [],
   "source": [
    "import numpy as np"
   ]
  },
  {
   "cell_type": "code",
   "execution_count": 2,
   "id": "a55cb647-6784-4ca2-afc3-f9138e98f450",
   "metadata": {},
   "outputs": [],
   "source": [
    "scores = [34, 36, 36, 38, 38, 39, 39, 40, 40, 41, 41, 41, 41, 42, 42, 45, 49, 56]"
   ]
  },
  {
   "cell_type": "code",
   "execution_count": 3,
   "id": "57a2905c-345e-439f-969c-605b43e71a28",
   "metadata": {},
   "outputs": [],
   "source": [
    "mean_score = np.mean(scores)\n",
    "median_score = np.median(scores)\n",
    "variance_score = np.var(scores)\n",
    "std_dev_score = np.std(scores)"
   ]
  },
  {
   "cell_type": "code",
   "execution_count": 4,
   "id": "0ea1c234-4665-4916-ab41-28edc1cdccb7",
   "metadata": {},
   "outputs": [
    {
     "name": "stdout",
     "output_type": "stream",
     "text": [
      "Mean: 41.0\n",
      "Median: 40.5\n",
      "Variance: 24.11111111111111\n",
      "Standard Deviation: 4.910306620885412\n"
     ]
    }
   ],
   "source": [
    "print(\"Mean:\", mean_score)\n",
    "print(\"Median:\", median_score)\n",
    "print(\"Variance:\", variance_score)\n",
    "print(\"Standard Deviation:\", std_dev_score)\n"
   ]
  },
  {
   "cell_type": "code",
   "execution_count": null,
   "id": "c700e5d0-c7c0-4365-b2c7-04f71f625a2d",
   "metadata": {},
   "outputs": [],
   "source": [
    "\n",
    "# Have an average score of 41, with half of the scores falling below 40.5 and half above.\n",
    "#  Show moderate variability around the mean, with a standard deviation of approximately 5.05.\n",
    "#  Include a few high-performing students, indicated by outliers such as scores of 49 and 56.\n",
    "#  Overall, the marks suggest a relatively consistent performance among the majority of students, with some variations and exceptional performances contributing to the overall distribution."
   ]
  }
 ],
 "metadata": {
  "kernelspec": {
   "display_name": "Python 3 (ipykernel)",
   "language": "python",
   "name": "python3"
  },
  "language_info": {
   "codemirror_mode": {
    "name": "ipython",
    "version": 3
   },
   "file_extension": ".py",
   "mimetype": "text/x-python",
   "name": "python",
   "nbconvert_exporter": "python",
   "pygments_lexer": "ipython3",
   "version": "3.11.7"
  }
 },
 "nbformat": 4,
 "nbformat_minor": 5
}
