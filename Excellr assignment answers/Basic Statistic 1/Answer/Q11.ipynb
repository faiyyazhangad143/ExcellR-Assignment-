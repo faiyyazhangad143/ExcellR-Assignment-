{
 "cells": [
  {
   "cell_type": "code",
   "execution_count": 14,
   "id": "d06b5f6e-2f08-4e13-b5c8-36fe775369b9",
   "metadata": {},
   "outputs": [],
   "source": [
    "import scipy.stats as stats\n",
    "import numpy as np"
   ]
  },
  {
   "cell_type": "code",
   "execution_count": 15,
   "id": "cf09d800-477b-4d52-83dc-5989386fb236",
   "metadata": {},
   "outputs": [],
   "source": [
    "sample_mean = 200 \n",
    "sample_std = 30 \n",
    "sample_size = 2000"
   ]
  },
  {
   "cell_type": "code",
   "execution_count": 16,
   "id": "0be30c3e-9282-4c6f-afe7-0e4de503ee1b",
   "metadata": {},
   "outputs": [
    {
     "data": {
      "text/plain": [
       "(198.738325292158, 201.261674707842)"
      ]
     },
     "execution_count": 16,
     "metadata": {},
     "output_type": "execute_result"
    }
   ],
   "source": [
    "stats.norm.interval(0.94, sample_mean,sample_std/np.sqrt(sample_size))"
   ]
  },
  {
   "cell_type": "code",
   "execution_count": 17,
   "id": "d2eea952-9380-49f8-8295-f6db24d41595",
   "metadata": {},
   "outputs": [
    {
     "data": {
      "text/plain": [
       "(198.43943840429978, 201.56056159570022)"
      ]
     },
     "execution_count": 17,
     "metadata": {},
     "output_type": "execute_result"
    }
   ],
   "source": [
    "stats.norm.interval(0.98, sample_mean,sample_std/np.sqrt(sample_size))"
   ]
  },
  {
   "cell_type": "code",
   "execution_count": 18,
   "id": "fd51332b-ae70-4571-bcea-ad5a673d1838",
   "metadata": {},
   "outputs": [
    {
     "data": {
      "text/plain": [
       "(198.62230334813333, 201.37769665186667)"
      ]
     },
     "execution_count": 18,
     "metadata": {},
     "output_type": "execute_result"
    }
   ],
   "source": [
    "stats.norm.interval(0.96, sample_mean,sample_std/np.sqrt(sample_size))"
   ]
  },
  {
   "cell_type": "code",
   "execution_count": null,
   "id": "3429768b-5886-4fdb-aaf3-abbf00ef69ed",
   "metadata": {},
   "outputs": [],
   "source": []
  }
 ],
 "metadata": {
  "kernelspec": {
   "display_name": "Python 3 (ipykernel)",
   "language": "python",
   "name": "python3"
  },
  "language_info": {
   "codemirror_mode": {
    "name": "ipython",
    "version": 3
   },
   "file_extension": ".py",
   "mimetype": "text/x-python",
   "name": "python",
   "nbconvert_exporter": "python",
   "pygments_lexer": "ipython3",
   "version": "3.11.7"
  }
 },
 "nbformat": 4,
 "nbformat_minor": 5
}
